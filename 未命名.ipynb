{
 "cells": [
  {
   "cell_type": "code",
   "execution_count": 1,
   "id": "92facd97-7812-40bc-be7b-76140343aa78",
   "metadata": {},
   "outputs": [],
   "source": [
    "a = []\n",
    "a.insert(0, 2)"
   ]
  },
  {
   "cell_type": "code",
   "execution_count": 2,
   "id": "d444e233-c941-4c54-aaac-88f8c3a6be78",
   "metadata": {},
   "outputs": [
    {
     "data": {
      "text/plain": [
       "[2]"
      ]
     },
     "execution_count": 2,
     "metadata": {},
     "output_type": "execute_result"
    }
   ],
   "source": [
    "a"
   ]
  },
  {
   "cell_type": "code",
   "execution_count": 3,
   "id": "41104934-7d7f-485d-9027-539bd1ae6a4f",
   "metadata": {},
   "outputs": [],
   "source": [
    "a.insert(1,3)"
   ]
  },
  {
   "cell_type": "code",
   "execution_count": 4,
   "id": "153b2310-7a1f-4182-8d38-5d143e42d697",
   "metadata": {},
   "outputs": [
    {
     "data": {
      "text/plain": [
       "[2, 3]"
      ]
     },
     "execution_count": 4,
     "metadata": {},
     "output_type": "execute_result"
    }
   ],
   "source": [
    "a"
   ]
  },
  {
   "cell_type": "code",
   "execution_count": 6,
   "id": "a34e61f0-0b7d-49b1-be0b-ca98d0fc04d6",
   "metadata": {},
   "outputs": [
    {
     "data": {
      "text/plain": [
       "2"
      ]
     },
     "execution_count": 6,
     "metadata": {},
     "output_type": "execute_result"
    }
   ],
   "source": [
    "a.pop(0)"
   ]
  },
  {
   "cell_type": "code",
   "execution_count": 7,
   "id": "0d63aed2-751b-4b48-8204-e6c6c6a4f776",
   "metadata": {},
   "outputs": [
    {
     "data": {
      "text/plain": [
       "[3]"
      ]
     },
     "execution_count": 7,
     "metadata": {},
     "output_type": "execute_result"
    }
   ],
   "source": [
    "a"
   ]
  },
  {
   "cell_type": "code",
   "execution_count": 8,
   "id": "867f76d4-f976-4c1c-bb99-0034677d9081",
   "metadata": {},
   "outputs": [
    {
     "name": "stdout",
     "output_type": "stream",
     "text": [
      "123\n"
     ]
    }
   ],
   "source": [
    "if not {}:\n",
    "    print(123)"
   ]
  },
  {
   "cell_type": "code",
   "execution_count": null,
   "id": "846ab002-e9ac-409b-9b82-73aac06b6449",
   "metadata": {},
   "outputs": [],
   "source": []
  }
 ],
 "metadata": {
  "kernelspec": {
   "display_name": "Python 3 (ipykernel)",
   "language": "python",
   "name": "python3"
  },
  "language_info": {
   "codemirror_mode": {
    "name": "ipython",
    "version": 3
   },
   "file_extension": ".py",
   "mimetype": "text/x-python",
   "name": "python",
   "nbconvert_exporter": "python",
   "pygments_lexer": "ipython3",
   "version": "3.9.12"
  }
 },
 "nbformat": 4,
 "nbformat_minor": 5
}
