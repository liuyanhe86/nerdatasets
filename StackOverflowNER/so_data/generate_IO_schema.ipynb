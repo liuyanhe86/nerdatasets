{
 "cells": [
  {
   "cell_type": "code",
   "execution_count": 1,
   "id": "ad786fa7",
   "metadata": {},
   "outputs": [],
   "source": [
    "import json    "
   ]
  },
  {
   "cell_type": "code",
   "execution_count": 7,
   "id": "cba3c51b",
   "metadata": {},
   "outputs": [
    {
     "data": {
      "text/plain": [
       "{'B-Algorithm': 0,\n",
       " 'B-Application': 1,\n",
       " 'B-Class_Name': 2,\n",
       " 'B-Code_Block': 3,\n",
       " 'B-Data_Structure': 4,\n",
       " 'B-Data_Type': 5,\n",
       " 'B-Device': 6,\n",
       " 'B-Error_Name': 7,\n",
       " 'B-File_Name': 8,\n",
       " 'B-File_Type': 9,\n",
       " 'B-Function_Name': 10,\n",
       " 'B-HTML_XML_Tag': 11,\n",
       " 'B-Keyboard_IP': 12,\n",
       " 'B-Language': 13,\n",
       " 'B-Library': 14,\n",
       " 'B-Library_Class': 15,\n",
       " 'B-Library_Function': 16,\n",
       " 'B-Library_Variable': 17,\n",
       " 'B-Licence': 18,\n",
       " 'B-Operating_System': 19,\n",
       " 'B-Organization': 20,\n",
       " 'B-Output_Block': 21,\n",
       " 'B-User_Interface_Element': 22,\n",
       " 'B-User_Name': 23,\n",
       " 'B-Value': 24,\n",
       " 'B-Variable_Name': 25,\n",
       " 'B-Version': 26,\n",
       " 'B-Website': 27,\n",
       " 'I-Algorithm': 28,\n",
       " 'I-Application': 29,\n",
       " 'I-Class_Name': 30,\n",
       " 'I-Code_Block': 31,\n",
       " 'I-Data_Structure': 32,\n",
       " 'I-Data_Type': 33,\n",
       " 'I-Device': 34,\n",
       " 'I-Error_Name': 35,\n",
       " 'I-File_Name': 36,\n",
       " 'I-File_Type': 37,\n",
       " 'I-Function_Name': 38,\n",
       " 'I-HTML_XML_Tag': 39,\n",
       " 'I-Keyboard_IP': 40,\n",
       " 'I-Language': 41,\n",
       " 'I-Library': 42,\n",
       " 'I-Library_Class': 43,\n",
       " 'I-Library_Function': 44,\n",
       " 'I-Library_Variable': 45,\n",
       " 'I-Licence': 46,\n",
       " 'I-Operating_System': 47,\n",
       " 'I-Organization': 48,\n",
       " 'I-Output_Block': 49,\n",
       " 'I-User_Interface_Element': 50,\n",
       " 'I-User_Name': 51,\n",
       " 'I-Value': 52,\n",
       " 'I-Variable_Name': 53,\n",
       " 'I-Version': 54,\n",
       " 'I-Website': 55,\n",
       " 'O': 56}"
      ]
     },
     "execution_count": 7,
     "metadata": {},
     "output_type": "execute_result"
    }
   ],
   "source": [
    "with open('./so_labels', mode='r', encoding='utf-8') as f:\n",
    "    BIO_TAGs = json.load(f)\n",
    "\n",
    "BIO_TAGs"
   ]
  },
  {
   "cell_type": "code",
   "execution_count": 9,
   "id": "8a49cb04",
   "metadata": {},
   "outputs": [
    {
     "data": {
      "text/plain": [
       "{'Algorithm': 0,\n",
       " 'Application': 1,\n",
       " 'Class_Name': 2,\n",
       " 'Code_Block': 3,\n",
       " 'Data_Structure': 4,\n",
       " 'Data_Type': 5,\n",
       " 'Device': 6,\n",
       " 'Error_Name': 7,\n",
       " 'File_Name': 8,\n",
       " 'File_Type': 9,\n",
       " 'Function_Name': 10,\n",
       " 'HTML_XML_Tag': 11,\n",
       " 'Keyboard_IP': 12,\n",
       " 'Language': 13,\n",
       " 'Library': 14,\n",
       " 'Library_Class': 15,\n",
       " 'Library_Function': 16,\n",
       " 'Library_Variable': 17,\n",
       " 'Licence': 18,\n",
       " 'Operating_System': 19,\n",
       " 'Organization': 20,\n",
       " 'Output_Block': 21,\n",
       " 'User_Interface_Element': 22,\n",
       " 'User_Name': 23,\n",
       " 'Value': 24,\n",
       " 'Variable_Name': 25,\n",
       " 'Version': 26,\n",
       " 'Website': 27,\n",
       " 'O': 28}"
      ]
     },
     "execution_count": 9,
     "metadata": {},
     "output_type": "execute_result"
    }
   ],
   "source": [
    "IO_TAGs = {}\n",
    "label = 0\n",
    "for BIO_TAG in BIO_TAGs:\n",
    "    tokens = BIO_TAG.split('-')\n",
    "    if len(tokens) > 1:\n",
    "        IO_TAG = tokens[1]\n",
    "    else:\n",
    "        IO_TAG = tokens[0]\n",
    "    if not IO_TAG in IO_TAGs:\n",
    "        IO_TAGs[IO_TAG] = label\n",
    "        label += 1\n",
    "IO_TAGs"
   ]
  },
  {
   "cell_type": "code",
   "execution_count": 10,
   "id": "ff275969",
   "metadata": {},
   "outputs": [],
   "source": [
    "with open('./io_schema', 'w', encoding='utf-8') as f:\n",
    "    json.dump(IO_TAGs, f)"
   ]
  },
  {
   "cell_type": "code",
   "execution_count": 11,
   "id": "1121a842",
   "metadata": {},
   "outputs": [
    {
     "data": {
      "text/plain": [
       "{0: 0,\n",
       " 1: 1,\n",
       " 2: 2,\n",
       " 3: 3,\n",
       " 4: 4,\n",
       " 5: 5,\n",
       " 6: 6,\n",
       " 7: 7,\n",
       " 8: 8,\n",
       " 9: 9,\n",
       " 10: 10,\n",
       " 11: 11,\n",
       " 12: 12,\n",
       " 13: 13,\n",
       " 14: 14,\n",
       " 15: 15,\n",
       " 16: 16,\n",
       " 17: 17,\n",
       " 18: 18,\n",
       " 19: 19,\n",
       " 20: 20,\n",
       " 21: 21,\n",
       " 22: 22,\n",
       " 23: 23,\n",
       " 24: 24,\n",
       " 25: 25,\n",
       " 26: 26,\n",
       " 27: 27,\n",
       " 28: 0,\n",
       " 29: 1,\n",
       " 30: 2,\n",
       " 31: 3,\n",
       " 32: 4,\n",
       " 33: 5,\n",
       " 34: 6,\n",
       " 35: 7,\n",
       " 36: 8,\n",
       " 37: 9,\n",
       " 38: 10,\n",
       " 39: 11,\n",
       " 40: 12,\n",
       " 41: 13,\n",
       " 42: 14,\n",
       " 43: 15,\n",
       " 44: 16,\n",
       " 45: 17,\n",
       " 46: 18,\n",
       " 47: 19,\n",
       " 48: 20,\n",
       " 49: 21,\n",
       " 50: 22,\n",
       " 51: 23,\n",
       " 52: 24,\n",
       " 53: 25,\n",
       " 54: 26,\n",
       " 55: 27,\n",
       " 56: 28}"
      ]
     },
     "execution_count": 11,
     "metadata": {},
     "output_type": "execute_result"
    }
   ],
   "source": [
    "BIO_2_IO = {}\n",
    "for bio in BIO_TAGs:\n",
    "    tokens = bio.split('-')\n",
    "    if len(tokens) > 1:\n",
    "        io = tokens[1]  # 'I-xx'\n",
    "    else:\n",
    "        io = tokens[0]  # 'O'\n",
    "    BIO_2_IO[BIO_TAGs[bio]] = IO_TAGs[io]\n",
    "BIO_2_IO"
   ]
  },
  {
   "cell_type": "code",
   "execution_count": null,
   "id": "e8d79d1c",
   "metadata": {},
   "outputs": [],
   "source": []
  }
 ],
 "metadata": {
  "kernelspec": {
   "display_name": "Python 3 (ipykernel)",
   "language": "python",
   "name": "python3"
  },
  "language_info": {
   "codemirror_mode": {
    "name": "ipython",
    "version": 3
   },
   "file_extension": ".py",
   "mimetype": "text/x-python",
   "name": "python",
   "nbconvert_exporter": "python",
   "pygments_lexer": "ipython3",
   "version": "3.8.12"
  }
 },
 "nbformat": 4,
 "nbformat_minor": 5
}
