{
 "cells": [
  {
   "cell_type": "code",
   "execution_count": 1,
   "id": "9b75b3d7",
   "metadata": {},
   "outputs": [],
   "source": [
    "import os, json"
   ]
  },
  {
   "cell_type": "code",
   "execution_count": 2,
   "id": "4f6fe0e9",
   "metadata": {},
   "outputs": [
    {
     "name": "stdout",
     "output_type": "stream",
     "text": [
      "9446\n"
     ]
    }
   ],
   "source": [
    "# 读取所有的原始样本\n",
    "all_samples = {}\n",
    "temporal_files, skewed_files = os.listdir('./temporal_splits/'), os.listdir('./skewed_splits/')\n",
    "for file in temporal_files:\n",
    "    with open('./temporal_splits/' + file, encoding='utf-8') as f:\n",
    "        for sample in json.load(f):\n",
    "            tags = sample['tag_sequence'].split()\n",
    "            if tags.count('O') < len(tags):\n",
    "                all_samples[sample['sentence']] = sample['tag_sequence'].replace('B-', '').replace('I-','')\n",
    "for file in skewed_files:\n",
    "    with open('./skewed_splits/' + file, encoding='utf-8') as f:\n",
    "        for sample in json.load(f):\n",
    "            tags = sample['tag_sequence'].split()\n",
    "            if tags.count('O') < len(tags):\n",
    "                all_samples[sample['sentence']] = sample['tag_sequence'].replace('B-', '').replace('I-','')\n",
    "print(len(all_samples))\n"
   ]
  },
  {
   "cell_type": "code",
   "execution_count": 15,
   "id": "d2b70fd6",
   "metadata": {},
   "outputs": [
    {
     "name": "stdout",
     "output_type": "stream",
     "text": [
      "Licence : 1\n",
      "Class_Name : 311\n",
      "Keyboard_IP : 44\n",
      "Language : 887\n",
      "Value : 754\n",
      "Version : 394\n",
      "Library_Class : 1377\n",
      "Website : 123\n",
      "File_Type : 497\n",
      "Function_Name : 195\n",
      "Organization : 45\n",
      "Library : 1042\n",
      "Data_Type : 515\n",
      "Device : 329\n",
      "Application : 1717\n",
      "Library_Variable : 341\n",
      "File_Name : 516\n",
      "User_Name : 134\n",
      "User_Interface_Element : 1147\n",
      "Error_Name : 108\n",
      "Algorithm : 60\n",
      "Data_Structure : 827\n",
      "Library_Function : 862\n",
      "Variable_Name : 906\n",
      "HTML_XML_Tag : 238\n",
      "Operating_System : 273\n",
      "Code_Block : 980\n",
      "Output_Block : 84\n",
      "14707\n"
     ]
    },
    {
     "ename": "ValueError",
     "evalue": "list.remove(x): x not in list",
     "output_type": "error",
     "traceback": [
      "\u001b[1;31m---------------------------------------------------------------------------\u001b[0m",
      "\u001b[1;31mValueError\u001b[0m                                Traceback (most recent call last)",
      "\u001b[1;32m~\\AppData\\Local\\Temp/ipykernel_21168/3497165482.py\u001b[0m in \u001b[0;36m<module>\u001b[1;34m\u001b[0m\n\u001b[0;32m     36\u001b[0m             \u001b[1;32mfor\u001b[0m \u001b[0msample\u001b[0m \u001b[1;32min\u001b[0m \u001b[0minter\u001b[0m\u001b[1;33m:\u001b[0m\u001b[1;33m\u001b[0m\u001b[1;33m\u001b[0m\u001b[0m\n\u001b[0;32m     37\u001b[0m                 \u001b[1;32mif\u001b[0m \u001b[0ma\u001b[0m \u001b[1;33m>\u001b[0m \u001b[0mb\u001b[0m\u001b[1;33m:\u001b[0m\u001b[1;33m\u001b[0m\u001b[1;33m\u001b[0m\u001b[0m\n\u001b[1;32m---> 38\u001b[1;33m                     \u001b[0msample_dict\u001b[0m\u001b[1;33m[\u001b[0m\u001b[0mtag_list\u001b[0m\u001b[1;33m[\u001b[0m\u001b[0mi\u001b[0m\u001b[1;33m]\u001b[0m\u001b[1;33m]\u001b[0m\u001b[1;33m.\u001b[0m\u001b[0mremove\u001b[0m\u001b[1;33m(\u001b[0m\u001b[0msample\u001b[0m\u001b[1;33m)\u001b[0m\u001b[1;33m\u001b[0m\u001b[1;33m\u001b[0m\u001b[0m\n\u001b[0m\u001b[0;32m     39\u001b[0m                     \u001b[0ma\u001b[0m \u001b[1;33m-=\u001b[0m \u001b[1;36m1\u001b[0m\u001b[1;33m\u001b[0m\u001b[1;33m\u001b[0m\u001b[0m\n\u001b[0;32m     40\u001b[0m                 \u001b[1;32melse\u001b[0m\u001b[1;33m:\u001b[0m\u001b[1;33m\u001b[0m\u001b[1;33m\u001b[0m\u001b[0m\n",
      "\u001b[1;31mValueError\u001b[0m: list.remove(x): x not in list"
     ]
    }
   ],
   "source": [
    "tag_set = set()\n",
    "for sentence in all_samples:\n",
    "    tags = all_samples[sentence].split()\n",
    "    for tag in tags:\n",
    "        if tag != 'O':\n",
    "            tag_set.add(tag)\n",
    "sample_dict = {}\n",
    "for tag in tag_set:\n",
    "    samples = []\n",
    "    for sentence in all_samples:\n",
    "        tags = all_samples[sentence].split()\n",
    "        if tag in tags:\n",
    "            tokens = sentence.split()\n",
    "            token_tag = []\n",
    "            for i in range(len(tags)):\n",
    "                token_tag.append(tokens[i] + '\\t' +tags[i])\n",
    "            samples.append('\\n'.join(token_tag))\n",
    "    sample_dict[tag] = samples\n",
    "count = 0\n",
    "for tag in sample_dict:\n",
    "    count += len(sample_dict[tag])\n",
    "    print(tag, ':', len(sample_dict[tag]))\n",
    "print(count)\n",
    "count = 0\n",
    "\n",
    "\n",
    "tag_list = list(tag_set)\n",
    "for i in range(len(tag_list)):\n",
    "    ti_samples = set(sample_dict[tag_list[i]])\n",
    "    for j in range(i + 1, len(tag_list)):\n",
    "        tj_samples = set(sample_dict[tag_list[j]])\n",
    "        inter = ti_samples.intersection(tj_samples)\n",
    "        c = len(inter)\n",
    "        if c > 0:\n",
    "            a, b = len(ti_samples), len(tj_samples)\n",
    "            for sample in inter:\n",
    "                if a > b:\n",
    "                    sample_dict[tag_list[i]].remove(sample)\n",
    "                    a -= 1\n",
    "                else:\n",
    "                    sample_dict[tag_list[j]].remove(sample)\n",
    "                    b -= 1\n",
    "for tag in sample_dict:\n",
    "    count += len(sample_dict[tag])\n",
    "    print(tag, ':', len(sample_dict[tag]))\n",
    "print(count)"
   ]
  },
  {
   "cell_type": "code",
   "execution_count": null,
   "id": "da53928c",
   "metadata": {},
   "outputs": [],
   "source": []
  }
 ],
 "metadata": {
  "kernelspec": {
   "display_name": "Python 3 (ipykernel)",
   "language": "python",
   "name": "python3"
  },
  "language_info": {
   "codemirror_mode": {
    "name": "ipython",
    "version": 3
   },
   "file_extension": ".py",
   "mimetype": "text/x-python",
   "name": "python",
   "nbconvert_exporter": "python",
   "pygments_lexer": "ipython3",
   "version": "3.8.12"
  }
 },
 "nbformat": 4,
 "nbformat_minor": 5
}
