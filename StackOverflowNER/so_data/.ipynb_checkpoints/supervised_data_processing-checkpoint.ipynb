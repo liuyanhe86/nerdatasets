{
 "cells": [
  {
   "cell_type": "code",
   "execution_count": 1,
   "id": "b35c0001",
   "metadata": {},
   "outputs": [],
   "source": [
    "import os, json"
   ]
  },
  {
   "cell_type": "code",
   "execution_count": 2,
   "id": "9e66ec66",
   "metadata": {},
   "outputs": [
    {
     "name": "stdout",
     "output_type": "stream",
     "text": [
      "9446\n"
     ]
    }
   ],
   "source": [
    "# 读取所有的原始样本\n",
    "all_samples = {}\n",
    "temporal_files, skewed_files = os.listdir('./temporal_splits/'), os.listdir('./skewed_splits/')\n",
    "for file in temporal_files:\n",
    "    with open('./temporal_splits/' + file, encoding='utf-8') as f:\n",
    "        for sample in json.load(f):\n",
    "            tags = sample['tag_sequence'].split()\n",
    "            if tags.count('O') < len(tags):\n",
    "                all_samples[sample['sentence']] = sample['tag_sequence'].replace('B-', '').replace('I-','')\n",
    "for file in skewed_files:\n",
    "    with open('./skewed_splits/' + file, encoding='utf-8') as f:\n",
    "        for sample in json.load(f):\n",
    "            tags = sample['tag_sequence'].split()\n",
    "            if tags.count('O') < len(tags):\n",
    "                all_samples[sample['sentence']] = sample['tag_sequence'].replace('B-', '').replace('I-','')\n",
    "print(len(all_samples))\n"
   ]
  },
  {
   "cell_type": "code",
   "execution_count": 3,
   "id": "43b3d047",
   "metadata": {},
   "outputs": [
    {
     "name": "stdout",
     "output_type": "stream",
     "text": [
      "14707\n"
     ]
    }
   ],
   "source": [
    "tag_set = set()\n",
    "for sentence in all_samples:\n",
    "    tags = all_samples[sentence].split()\n",
    "    for tag in tags:\n",
    "        if tag != 'O':\n",
    "            tag_set.add(tag)\n",
    "sample_dict = {}\n",
    "for tag in tag_set:\n",
    "    samples = []\n",
    "    for sentence in all_samples:\n",
    "        tags = all_samples[sentence].split()\n",
    "        if tag in tags:\n",
    "            tokens = sentence.split()\n",
    "            token_tag = []\n",
    "            for i in range(len(tags)):\n",
    "                token_tag.append(tokens[i] + '\\t' +tags[i])\n",
    "            samples.append('\\n'.join(token_tag))\n",
    "    sample_dict[tag] = samples\n",
    "count = 0\n",
    "for tag in sample_dict:\n",
    "    count += len(sample_dict[tag])\n",
    "print(count)"
   ]
  },
  {
   "cell_type": "code",
   "execution_count": 4,
   "id": "65386529",
   "metadata": {},
   "outputs": [
    {
     "name": "stdout",
     "output_type": "stream",
     "text": [
      "{'Licence'}\n",
      "{'User_Name': 134, 'HTML_XML_Tag': 238, 'Device': 329, 'Class_Name': 311, 'Error_Name': 108, 'Language': 887, 'Library': 1042, 'Keyboard_IP': 44, 'Output_Block': 84, 'Algorithm': 60, 'Library_Function': 862, 'Data_Structure': 827, 'Operating_System': 273, 'Website': 123, 'Organization': 45, 'File_Type': 497, 'Library_Class': 1377, 'Version': 394, 'User_Interface_Element': 1147, 'Code_Block': 980, 'File_Name': 516, 'Licence': 1, 'Value': 754, 'Function_Name': 195, 'Data_Type': 515, 'Application': 1717, 'Variable_Name': 906, 'Library_Variable': 341}\n"
     ]
    }
   ],
   "source": [
    "few_sample_tags = set()\n",
    "tag_count = {}\n",
    "for tag in tag_set:\n",
    "    tag_count[tag] = len(sample_dict[tag])\n",
    "    if tag_count[tag] < 10:\n",
    "        few_sample_tags.add(tag)\n",
    "print(few_sample_tags)\n",
    "print(tag_count)"
   ]
  },
  {
   "cell_type": "code",
   "execution_count": 5,
   "id": "ad5e2e8e",
   "metadata": {},
   "outputs": [
    {
     "name": "stdout",
     "output_type": "stream",
     "text": [
      "14706\n"
     ]
    }
   ],
   "source": [
    "for tag in few_sample_tags:\n",
    "    tag_set.remove(tag)\n",
    "    tag_count.pop(tag)\n",
    "    sample_dict.pop(tag)\n",
    "for few_sample_tag in few_sample_tags:\n",
    "    for tag in sample_dict:\n",
    "        clear_sentences = []\n",
    "        for sentence in sample_dict[tag]:\n",
    "            wts = sentence.split('\\n')\n",
    "            for i in range(len(wts)):\n",
    "                w_t = wts[i].split('\\t')\n",
    "                w_t[1] = w_t[1].replace(few_sample_tag, 'O')\n",
    "                wts[i] = '\\t'.join(w_t)\n",
    "            clear_sentences.append('\\n'.join(wts))\n",
    "        sample_dict[tag] = clear_sentences\n",
    "count = 0\n",
    "for tag in tag_count:\n",
    "    count += tag_count[tag]\n",
    "print(count)"
   ]
  },
  {
   "cell_type": "code",
   "execution_count": 6,
   "id": "3e84ab2e",
   "metadata": {},
   "outputs": [],
   "source": [
    "import random"
   ]
  },
  {
   "cell_type": "code",
   "execution_count": 7,
   "id": "9875e5b3",
   "metadata": {},
   "outputs": [
    {
     "name": "stdout",
     "output_type": "stream",
     "text": [
      "6631\n",
      "{'User_Name': 94, 'Application': 1202, 'Version': 276, 'Library': 730, 'Code_Block': 686, 'Data_Structure': 579, 'HTML_XML_Tag': 167, 'Library_Class': 964, 'Library_Function': 604, 'Website': 87, 'Device': 231, 'File_Name': 362, 'File_Type': 348, 'Language': 621, 'User_Interface_Element': 803, 'Data_Type': 361, 'Class_Name': 218, 'Function_Name': 137, 'Library_Variable': 239, 'Variable_Name': 635, 'Value': 528, 'Error_Name': 76, 'Organization': 32, 'Operating_System': 192, 'Keyboard_IP': 31, 'Algorithm': 42, 'Output_Block': 59}\n",
      "{'User_Name': 134, 'HTML_XML_Tag': 238, 'Device': 329, 'Class_Name': 311, 'Error_Name': 108, 'Language': 887, 'Library': 1042, 'Keyboard_IP': 44, 'Output_Block': 84, 'Algorithm': 60, 'Library_Function': 862, 'Data_Structure': 827, 'Operating_System': 273, 'Website': 123, 'Organization': 45, 'File_Type': 497, 'Library_Class': 1377, 'Version': 394, 'User_Interface_Element': 1147, 'Code_Block': 980, 'File_Name': 516, 'Value': 754, 'Function_Name': 195, 'Data_Type': 515, 'Application': 1717, 'Variable_Name': 906, 'Library_Variable': 341}\n"
     ]
    }
   ],
   "source": [
    "train_samples = set()\n",
    "train_samples_count = {}\n",
    "for tag in tag_set:\n",
    "    samples = sample_dict[tag]\n",
    "    while train_samples_count.get(tag, 0) < 0.7 * tag_count[tag]:\n",
    "        sample = random.choice(samples)\n",
    "        if sample not in train_samples:\n",
    "            satisfied = True\n",
    "            other_tags = set([wt.split('\\t')[1] for wt in sample.split('\\n')])\n",
    "            for other_tag in other_tags:\n",
    "                if other_tag != 'O' and other_tag != tag:\n",
    "                    if train_samples_count.get(other_tag, 0) + 1 > 0.7 * tag_count[other_tag]:\n",
    "                        satisfied = False\n",
    "                        break\n",
    "            if satisfied:\n",
    "                train_samples.add(sample)\n",
    "                train_samples_count[tag] = train_samples_count.get(tag, 0) + 1\n",
    "                for other_tag in other_tags:\n",
    "                    if other_tag != 'O' and other_tag != tag:\n",
    "                        train_samples_count[other_tag] = train_samples_count.get(other_tag, 0) + 1\n",
    "print(len(train_samples))\n",
    "print(train_samples_count)\n",
    "print(tag_count)"
   ]
  },
  {
   "cell_type": "code",
   "execution_count": 8,
   "id": "38711515",
   "metadata": {},
   "outputs": [
    {
     "name": "stdout",
     "output_type": "stream",
     "text": [
      "User_Name : 0.7014925373134329\n",
      "Application : 0.7000582411182295\n",
      "Version : 0.700507614213198\n",
      "Library : 0.7005758157389635\n",
      "Code_Block : 0.7\n",
      "Data_Structure : 0.7001209189842805\n",
      "HTML_XML_Tag : 0.7016806722689075\n",
      "Library_Class : 0.7000726216412491\n",
      "Library_Function : 0.7006960556844548\n",
      "Website : 0.7073170731707317\n",
      "Device : 0.7021276595744681\n",
      "File_Name : 0.7015503875968992\n",
      "File_Type : 0.7002012072434608\n",
      "Language : 0.7001127395715896\n",
      "User_Interface_Element : 0.7000871839581517\n",
      "Data_Type : 0.7009708737864078\n",
      "Class_Name : 0.7009646302250804\n",
      "Function_Name : 0.7025641025641025\n",
      "Library_Variable : 0.7008797653958945\n",
      "Variable_Name : 0.7008830022075055\n",
      "Value : 0.7002652519893899\n",
      "Error_Name : 0.7037037037037037\n",
      "Organization : 0.7111111111111111\n",
      "Operating_System : 0.7032967032967034\n",
      "Keyboard_IP : 0.7045454545454546\n",
      "Algorithm : 0.7\n",
      "Output_Block : 0.7023809523809523\n"
     ]
    }
   ],
   "source": [
    "for tag in train_samples_count:\n",
    "    print(tag, ':', train_samples_count[tag] / tag_count[tag])"
   ]
  },
  {
   "cell_type": "code",
   "execution_count": 9,
   "id": "8bcb6112",
   "metadata": {},
   "outputs": [
    {
     "name": "stdout",
     "output_type": "stream",
     "text": [
      "955\n",
      "{'User_Name': 14, 'Variable_Name': 91, 'Value': 76, 'Function_Name': 20, 'Library_Class': 138, 'Application': 172, 'Library_Function': 87, 'HTML_XML_Tag': 24, 'Code_Block': 98, 'User_Interface_Element': 115, 'Language': 89, 'Library': 105, 'Data_Type': 52, 'Device': 33, 'File_Name': 52, 'Data_Structure': 83, 'Class_Name': 32, 'Version': 40, 'Operating_System': 28, 'Library_Variable': 35, 'File_Type': 50, 'Error_Name': 11, 'Website': 13, 'Keyboard_IP': 5, 'Algorithm': 6, 'Output_Block': 9, 'Organization': 5}\n",
      "{'User_Name': 134, 'HTML_XML_Tag': 238, 'Device': 329, 'Class_Name': 311, 'Error_Name': 108, 'Language': 887, 'Library': 1042, 'Keyboard_IP': 44, 'Output_Block': 84, 'Algorithm': 60, 'Library_Function': 862, 'Data_Structure': 827, 'Operating_System': 273, 'Website': 123, 'Organization': 45, 'File_Type': 497, 'Library_Class': 1377, 'Version': 394, 'User_Interface_Element': 1147, 'Code_Block': 980, 'File_Name': 516, 'Value': 754, 'Function_Name': 195, 'Data_Type': 515, 'Application': 1717, 'Variable_Name': 906, 'Library_Variable': 341}\n"
     ]
    }
   ],
   "source": [
    "valid_samples = set()\n",
    "valid_samples_count = {}\n",
    "for tag in tag_set:\n",
    "    samples = sample_dict[tag]\n",
    "    while valid_samples_count.get(tag, 0) < 0.1 * tag_count[tag]:\n",
    "        sample = random.choice(samples)\n",
    "        if sample not in train_samples and sample not in valid_samples:\n",
    "            satisfied = True\n",
    "            other_tags = set([wt.split('\\t')[1] for wt in sample.split('\\n')])\n",
    "            for other_tag in other_tags:\n",
    "                if other_tag != 'O' and other_tag != tag:\n",
    "                    if valid_samples_count.get(other_tag, 0) + 1 > 0.1 * tag_count[other_tag]:\n",
    "                        satisfied = False\n",
    "                        break\n",
    "            if satisfied:\n",
    "                valid_samples.add(sample)\n",
    "                valid_samples_count[tag] = valid_samples_count.get(tag, 0) + 1\n",
    "                for other_tag in other_tags:\n",
    "                    if other_tag != 'O' and other_tag != tag:\n",
    "                        valid_samples_count[other_tag] = valid_samples_count.get(other_tag, 0) + 1\n",
    "print(len(valid_samples))\n",
    "print(valid_samples_count)\n",
    "print(tag_count)"
   ]
  },
  {
   "cell_type": "code",
   "execution_count": 10,
   "id": "f0ddda16",
   "metadata": {},
   "outputs": [
    {
     "name": "stdout",
     "output_type": "stream",
     "text": [
      "User_Name : 0.1044776119402985\n",
      "Variable_Name : 0.10044150110375276\n",
      "Value : 0.10079575596816977\n",
      "Function_Name : 0.10256410256410256\n",
      "Library_Class : 0.10021786492374728\n",
      "Application : 0.10017472335468841\n",
      "Library_Function : 0.10092807424593968\n",
      "HTML_XML_Tag : 0.10084033613445378\n",
      "Code_Block : 0.1\n",
      "User_Interface_Element : 0.1002615518744551\n",
      "Language : 0.10033821871476889\n",
      "Library : 0.10076775431861804\n",
      "Data_Type : 0.10097087378640776\n",
      "Device : 0.10030395136778116\n",
      "File_Name : 0.10077519379844961\n",
      "Data_Structure : 0.1003627569528416\n",
      "Class_Name : 0.10289389067524116\n",
      "Version : 0.10152284263959391\n",
      "Operating_System : 0.10256410256410256\n",
      "Library_Variable : 0.10263929618768329\n",
      "File_Type : 0.1006036217303823\n",
      "Error_Name : 0.10185185185185185\n",
      "Website : 0.10569105691056911\n",
      "Keyboard_IP : 0.11363636363636363\n",
      "Algorithm : 0.1\n",
      "Output_Block : 0.10714285714285714\n",
      "Organization : 0.1111111111111111\n"
     ]
    }
   ],
   "source": [
    "for tag in valid_samples_count:\n",
    "    print(tag, ':', valid_samples_count[tag] / tag_count[tag])"
   ]
  },
  {
   "cell_type": "code",
   "execution_count": 11,
   "id": "00633ee0",
   "metadata": {},
   "outputs": [
    {
     "name": "stdout",
     "output_type": "stream",
     "text": [
      "1860\n",
      "{'User_Name': 26, 'HTML_XML_Tag': 47, 'Device': 65, 'Class_Name': 61, 'Error_Name': 21, 'Language': 177, 'Library': 207, 'Keyboard_IP': 8, 'Output_Block': 16, 'Algorithm': 12, 'Library_Function': 171, 'Data_Structure': 165, 'Operating_System': 53, 'Website': 23, 'Organization': 8, 'File_Type': 99, 'Library_Class': 275, 'Version': 78, 'User_Interface_Element': 229, 'Code_Block': 196, 'File_Name': 102, 'Value': 150, 'Function_Name': 38, 'Data_Type': 102, 'Application': 343, 'Variable_Name': 180, 'Library_Variable': 67}\n",
      "{'User_Name': 134, 'HTML_XML_Tag': 238, 'Device': 329, 'Class_Name': 311, 'Error_Name': 108, 'Language': 887, 'Library': 1042, 'Keyboard_IP': 44, 'Output_Block': 84, 'Algorithm': 60, 'Library_Function': 862, 'Data_Structure': 827, 'Operating_System': 273, 'Website': 123, 'Organization': 45, 'File_Type': 497, 'Library_Class': 1377, 'Version': 394, 'User_Interface_Element': 1147, 'Code_Block': 980, 'File_Name': 516, 'Value': 754, 'Function_Name': 195, 'Data_Type': 515, 'Application': 1717, 'Variable_Name': 906, 'Library_Variable': 341}\n"
     ]
    }
   ],
   "source": [
    "test_samples = set()\n",
    "test_samples_count = {}\n",
    "\n",
    "for tag in tag_set:\n",
    "    samples = set(sample_dict[tag]).difference(train_samples.union(valid_samples))\n",
    "    test_samples_count[tag] = test_samples_count.get(tag, 0) + len(samples)\n",
    "    for sample in samples:\n",
    "        test_samples.add(sample)\n",
    "print(len(test_samples))\n",
    "print(test_samples_count)\n",
    "print(tag_count)"
   ]
  },
  {
   "cell_type": "code",
   "execution_count": 12,
   "id": "fa82bc32",
   "metadata": {},
   "outputs": [
    {
     "name": "stdout",
     "output_type": "stream",
     "text": [
      "User_Name : 0.19402985074626866\n",
      "HTML_XML_Tag : 0.19747899159663865\n",
      "Device : 0.19756838905775076\n",
      "Class_Name : 0.19614147909967847\n",
      "Error_Name : 0.19444444444444445\n",
      "Language : 0.1995490417136415\n",
      "Library : 0.19865642994241842\n",
      "Keyboard_IP : 0.18181818181818182\n",
      "Output_Block : 0.19047619047619047\n",
      "Algorithm : 0.2\n",
      "Library_Function : 0.19837587006960558\n",
      "Data_Structure : 0.19951632406287786\n",
      "Operating_System : 0.19413919413919414\n",
      "Website : 0.18699186991869918\n",
      "Organization : 0.17777777777777778\n",
      "File_Type : 0.19919517102615694\n",
      "Library_Class : 0.19970951343500362\n",
      "Version : 0.19796954314720813\n",
      "User_Interface_Element : 0.1996512641673932\n",
      "Code_Block : 0.2\n",
      "File_Name : 0.19767441860465115\n",
      "Value : 0.1989389920424403\n",
      "Function_Name : 0.19487179487179487\n",
      "Data_Type : 0.19805825242718447\n",
      "Application : 0.1997670355270821\n",
      "Variable_Name : 0.1986754966887417\n",
      "Library_Variable : 0.19648093841642228\n"
     ]
    }
   ],
   "source": [
    "for tag in test_samples_count:\n",
    "    print(tag, ':', test_samples_count[tag] / tag_count[tag])"
   ]
  },
  {
   "cell_type": "code",
   "execution_count": 13,
   "id": "6c45e423",
   "metadata": {},
   "outputs": [],
   "source": [
    "with open('train.txt', 'w', encoding='utf-8') as trainf:\n",
    "    trainf.writelines('\\n\\n'.join(list(train_samples)))"
   ]
  },
  {
   "cell_type": "code",
   "execution_count": 14,
   "id": "e5c62231",
   "metadata": {},
   "outputs": [],
   "source": [
    "with open('dev.txt', 'w', encoding='utf-8') as validf:\n",
    "    validf.writelines('\\n\\n'.join(list(valid_samples)))"
   ]
  },
  {
   "cell_type": "code",
   "execution_count": 15,
   "id": "a4898151",
   "metadata": {},
   "outputs": [],
   "source": [
    "with open('test.txt', 'w', encoding='utf-8') as testf:\n",
    "    testf.writelines('\\n\\n'.join(list(test_samples)))"
   ]
  },
  {
   "cell_type": "code",
   "execution_count": 16,
   "id": "5004566f",
   "metadata": {},
   "outputs": [],
   "source": [
    "import json\n",
    "\n",
    "distributions = {'train':train_samples_count, 'valid':valid_samples_count, 'test':test_samples_count}\n",
    "with open('distribution.json', 'w', encoding='utf-8') as f:\n",
    "    json.dump(distributions, f)"
   ]
  }
 ],
 "metadata": {
  "kernelspec": {
   "display_name": "Python 3 (ipykernel)",
   "language": "python",
   "name": "python3"
  },
  "language_info": {
   "codemirror_mode": {
    "name": "ipython",
    "version": 3
   },
   "file_extension": ".py",
   "mimetype": "text/x-python",
   "name": "python",
   "nbconvert_exporter": "python",
   "pygments_lexer": "ipython3",
   "version": "3.8.12"
  }
 },
 "nbformat": 4,
 "nbformat_minor": 5
}
